{
 "cells": [
  {
   "cell_type": "markdown",
   "metadata": {},
   "source": [
    "# An Introduction to Programming with Python\n",
    "\n",
    "The goal of this notebook is to give a brief introduction to how to begin programming with Python.  Since it is nowhere near complete in its coverage of the topic, I've listed some additional resources below for self-directed learning.  \n",
    "\n",
    "* Read the docs: [python.org](https://python.org)\n",
    "* The official Python [tutorial](https://docs.python.org/3/tutorial/index.html) is fantastic!\n",
    "  * chapters 3 through 5 cover a lot of good material for starting out\n",
    "* [Object-Oriented Programming in Python](http://python-textbok.readthedocs.io/en/1.0/index.html).  Despite the name, this free online textbook comprehensively covers much of the language beyond just object-oriented programming\n",
    "* [Stack Overflow](http://stackoverflow.com/): you may end up here anyway when googling your problems, this can be a good source of programming questions and answers.\n",
    "\n",
    "Note that we'll be using Python3.6.  While there aren't too many major differences between the different versions of Python3, there are some notable differences between Python2 and Python3 that may come up from time to time.\n",
    "\n",
    "![python](https://www.python.org/static/opengraph-icon-200x200.png)\n",
    "\n",
    "## Jupyter notebook\n",
    "A Jupyter notebook is a browser-based environment for running computations.  We'll be using this to run Python code on the class server.  You can read the official documentation [here](http://jupyter-notebook.readthedocs.io/en/latest/notebook.html#notebook-user-interface), but the main thing we need to know for now is that we can enter text into cells, which we can evaluate by hitting \"Shift + Enter\".\n",
    "\n",
    "![jupyter](https://avatars3.githubusercontent.com/u/7388996?v=3&s=200)"
   ]
  },
  {
   "cell_type": "markdown",
   "metadata": {},
   "source": [
    "## Hello, world"
   ]
  },
  {
   "cell_type": "code",
   "execution_count": 1,
   "metadata": {},
   "outputs": [
    {
     "name": "stdout",
     "output_type": "stream",
     "text": [
      "Hello, World!\n"
     ]
    }
   ],
   "source": [
    "print(\"Hello, World!\")"
   ]
  },
  {
   "cell_type": "markdown",
   "metadata": {},
   "source": [
    "So what's the big deal?  That it *isn't* a big deal to do something as \"simple\" as outputting text!  Compare this with the equivalent program in Java:\n",
    "\n",
    "```java\n",
    "public class Hello {\n",
    "    public static void main(String[] args) {\n",
    "        System.out.println(\"Hello, World!\");\n",
    "    }\n",
    "}\n",
    "```\n",
    "\n",
    "That's not to say that programming languages like Java or C++ don't have their proper purpose or place.  But the biggest benefit of Python is that it decreases the barrier between thinking something and doing something.  In this tutorial, we'll get a taste of just what we can do.\n",
    "\n",
    "A meta-comment: lines that start with the hash symbol, `#`, are comments; they do nothing, but are a great way of making notes for both yourself and others who will be looking at your code."
   ]
  },
  {
   "cell_type": "markdown",
   "metadata": {},
   "source": [
    "<img style=\"float: left;\" src=\"https://d30y9cdsu7xlg0.cloudfront.net/png/11431-200.png\">\n",
    "Peppered throughout this notebook are some caution signs, denoting some common pitfalls.  Here's our first one!  Evaluating a code cell in a Jupyter notebook will print out the output from the last line.  So\n",
    "```python\n",
    "\"hello\"\n",
    "\"world\"\n",
    "```\n",
    "will print out \"world\", while\n",
    "```python\n",
    "print(\"hello\")\n",
    "print(\"world\")\n",
    "```\n",
    "will explicitly print out both \"hello\" and \"world\"."
   ]
  },
  {
   "cell_type": "markdown",
   "metadata": {},
   "source": [
    "## Using Python as a scientific calculator"
   ]
  },
  {
   "cell_type": "code",
   "execution_count": 2,
   "metadata": {},
   "outputs": [
    {
     "data": {
      "text/plain": [
       "4"
      ]
     },
     "execution_count": 2,
     "metadata": {},
     "output_type": "execute_result"
    }
   ],
   "source": [
    "2 + 2"
   ]
  },
  {
   "cell_type": "code",
   "execution_count": 3,
   "metadata": {},
   "outputs": [
    {
     "data": {
      "text/plain": [
       "2"
      ]
     },
     "execution_count": 3,
     "metadata": {},
     "output_type": "execute_result"
    }
   ],
   "source": [
    "4 - 2"
   ]
  },
  {
   "cell_type": "code",
   "execution_count": 4,
   "metadata": {},
   "outputs": [
    {
     "data": {
      "text/plain": [
       "8"
      ]
     },
     "execution_count": 4,
     "metadata": {},
     "output_type": "execute_result"
    }
   ],
   "source": [
    "4 * 2"
   ]
  },
  {
   "cell_type": "code",
   "execution_count": 5,
   "metadata": {},
   "outputs": [
    {
     "data": {
      "text/plain": [
       "2.0"
      ]
     },
     "execution_count": 5,
     "metadata": {},
     "output_type": "execute_result"
    }
   ],
   "source": [
    "4 / 2"
   ]
  },
  {
   "cell_type": "code",
   "execution_count": 6,
   "metadata": {},
   "outputs": [
    {
     "data": {
      "text/plain": [
       "16"
      ]
     },
     "execution_count": 6,
     "metadata": {},
     "output_type": "execute_result"
    }
   ],
   "source": [
    "# Note that the power operation is \"**\", not \"^\"!\n",
    "4 ** 2"
   ]
  },
  {
   "cell_type": "markdown",
   "metadata": {},
   "source": [
    "<img style=\"float: left;\" src=\"https://d30y9cdsu7xlg0.cloudfront.net/png/11431-200.png\">\n",
    "In fact, the caret operator, `^`, is used in a completely different context in Python, and so\n",
    "```\n",
    "1 ^ 2\n",
    "```\n",
    "is a legal operation which happens to return `3`.  See [bitwise XOR](https://en.wikipedia.org/wiki/Exclusive_or#Bitwise_operation) if you're interested, and ignore it otherwise."
   ]
  },
  {
   "cell_type": "code",
   "execution_count": 7,
   "metadata": {},
   "outputs": [
    {
     "data": {
      "text/plain": [
       "42.6"
      ]
     },
     "execution_count": 7,
     "metadata": {},
     "output_type": "execute_result"
    }
   ],
   "source": [
    "(1 + 2) * 3 ** 4 / 5 - 6"
   ]
  },
  {
   "cell_type": "markdown",
   "metadata": {},
   "source": [
    "## Assigning values to variables\n",
    "Variables, like in algebra, are a container to hold an arbitrary value.  We can store a value in a variable through the process of assignment, using the assignment operator, `=`."
   ]
  },
  {
   "cell_type": "code",
   "execution_count": 8,
   "metadata": {},
   "outputs": [
    {
     "name": "stdout",
     "output_type": "stream",
     "text": [
      "1\n",
      "2\n"
     ]
    }
   ],
   "source": [
    "a = 1\n",
    "b = 2\n",
    "print(a)\n",
    "print(b)"
   ]
  },
  {
   "cell_type": "code",
   "execution_count": 9,
   "metadata": {},
   "outputs": [
    {
     "name": "stdout",
     "output_type": "stream",
     "text": [
      "3\n",
      "27\n"
     ]
    }
   ],
   "source": [
    "# we can reassign the variable to have a new value\n",
    "a = 1 + 2\n",
    "print(a)\n",
    "a = 27\n",
    "print(a)"
   ]
  },
  {
   "cell_type": "code",
   "execution_count": 10,
   "metadata": {},
   "outputs": [
    {
     "name": "stdout",
     "output_type": "stream",
     "text": [
      "3\n"
     ]
    }
   ],
   "source": [
    "# we can perform operations on variables as we did for normal numbers\n",
    "a = 1\n",
    "b = 2\n",
    "print(a + b)"
   ]
  },
  {
   "cell_type": "code",
   "execution_count": 11,
   "metadata": {},
   "outputs": [
    {
     "name": "stdout",
     "output_type": "stream",
     "text": [
      "1 2\n"
     ]
    }
   ],
   "source": [
    "# note that in this notebook environment, variables will stick around outside of their cell\n",
    "print(a, b)"
   ]
  },
  {
   "cell_type": "markdown",
   "metadata": {},
   "source": [
    "This is useful in that you don't need to write all of your code to be evaluated in one cell.  But it can lead to unexpected behavior if you are constantly assigning to the same variable names."
   ]
  },
  {
   "cell_type": "markdown",
   "metadata": {},
   "source": [
    "<img style=\"float: left;\" src=\"https://d30y9cdsu7xlg0.cloudfront.net/png/11431-200.png\">\n",
    "Beware!  While the expression \"3 + 1 = 4\" makes sense mathematically, it is nonsense in Python.  The assignment operator, \"=\", goes to the right of the variable to be assigned, and is followed by the value with which the variable is assigned.\n",
    "```python\n",
    "3 + 1 = 4\n",
    "```\n",
    "will raise a syntax error."
   ]
  },
  {
   "cell_type": "markdown",
   "metadata": {},
   "source": [
    "Since updating a variable based on its previous value is a common operation, there's a shortcut for doing this assignment."
   ]
  },
  {
   "cell_type": "code",
   "execution_count": 12,
   "metadata": {},
   "outputs": [
    {
     "name": "stdout",
     "output_type": "stream",
     "text": [
      "1\n",
      "2\n",
      "6\n"
     ]
    }
   ],
   "source": [
    "a = 1\n",
    "print(a)\n",
    "a += 1  # is the same thing as writing a = a + 1\n",
    "print(a)\n",
    "a *= 3  # is the same thing as writing a = a * 3\n",
    "print(a)"
   ]
  },
  {
   "cell_type": "markdown",
   "metadata": {},
   "source": [
    "## Strings\n",
    "Aside from just doing number crunching, sometimes we'll need to manipulate strings of characters.  Python provides a lot of built-in [tools](https://docs.python.org/3.6/library/stdtypes.html#string-methods) for doing so."
   ]
  },
  {
   "cell_type": "code",
   "execution_count": 13,
   "metadata": {},
   "outputs": [
    {
     "name": "stdout",
     "output_type": "stream",
     "text": [
      "Hello, World!\n",
      "hello, world!\n",
      "HELLO, WORLD!\n",
      "Hello, SIP!\n"
     ]
    }
   ],
   "source": [
    "s = \"Hello, World!\"\n",
    "print(s)\n",
    "print(s.lower())\n",
    "print(s.upper())\n",
    "print(s.replace('World', 'SIP'))"
   ]
  },
  {
   "cell_type": "markdown",
   "metadata": {},
   "source": [
    "Strings can even be \"added\" together and \"multiplied\" by integers"
   ]
  },
  {
   "cell_type": "code",
   "execution_count": 14,
   "metadata": {},
   "outputs": [
    {
     "name": "stdout",
     "output_type": "stream",
     "text": [
      "Hello, World! It's a beautiful day!\n",
      "Hello, World!Hello, World!\n"
     ]
    }
   ],
   "source": [
    "new_string = s + \" It's a beautiful day!\"\n",
    "print(new_string)\n",
    "print(s * 2)"
   ]
  },
  {
   "cell_type": "markdown",
   "metadata": {},
   "source": [
    "## Lists\n",
    "A list is a sequence of objects, indexed by the natural numbers (0, 1, 2,...).  \n",
    "Lists are denoted with square brackets, e.g., [1, 2, 3] is the list containing 1, 2, and 3 in that order."
   ]
  },
  {
   "cell_type": "markdown",
   "metadata": {},
   "source": [
    "<img style=\"float: left;\" src=\"https://d30y9cdsu7xlg0.cloudfront.net/png/11431-200.png\">\n",
    "We start counting indices at 0, not 1!  Some languages (e.g., FORTRAN, Matlab, and Julia) start counting at 1."
   ]
  },
  {
   "cell_type": "code",
   "execution_count": 15,
   "metadata": {},
   "outputs": [
    {
     "name": "stdout",
     "output_type": "stream",
     "text": [
      "[0, 1, 2, 3]\n",
      "0\n",
      "1\n",
      "2\n",
      "3\n"
     ]
    }
   ],
   "source": [
    "# note the two uses of square brackets; we use them to create a list,\n",
    "# but also to indicate that we are indexing into a list variable\n",
    "x = [0, 1, 2, 3]\n",
    "print(x)\n",
    "print(x[0])\n",
    "print(x[1])\n",
    "print(x[2])\n",
    "print(x[3])"
   ]
  },
  {
   "cell_type": "markdown",
   "metadata": {},
   "source": [
    "If you try to get an index outside of the size of the list, you'll get an error.  So if you need to know how long a list is, use the `len` function."
   ]
  },
  {
   "cell_type": "code",
   "execution_count": 16,
   "metadata": {},
   "outputs": [
    {
     "name": "stdout",
     "output_type": "stream",
     "text": [
      "length of x: 4\n"
     ]
    }
   ],
   "source": [
    "print('length of x:', len(x))"
   ]
  },
  {
   "cell_type": "markdown",
   "metadata": {},
   "source": [
    "You can count entries from the end of the list by indexing with negative integers."
   ]
  },
  {
   "cell_type": "code",
   "execution_count": 17,
   "metadata": {},
   "outputs": [
    {
     "name": "stdout",
     "output_type": "stream",
     "text": [
      "3\n",
      "2\n",
      "1\n",
      "0\n"
     ]
    }
   ],
   "source": [
    "print(x[-1])\n",
    "print(x[-2])\n",
    "print(x[-3])\n",
    "print(x[-4])"
   ]
  },
  {
   "cell_type": "markdown",
   "metadata": {},
   "source": [
    "You can \"slice\" through a list to get a copy of a subsequence of the list.  The notation is `x[a:b]`, where x is the list, a is the lower index (inclusive) and b is the upper index (exclusive)."
   ]
  },
  {
   "cell_type": "code",
   "execution_count": 18,
   "metadata": {},
   "outputs": [
    {
     "name": "stdout",
     "output_type": "stream",
     "text": [
      "[0, 1]\n",
      "[0, 1, 2]\n",
      "[0, 1, 2]\n",
      "[1, 2, 3]\n",
      "[0, 1]\n"
     ]
    }
   ],
   "source": [
    "print(x[0:2])\n",
    "print(x[0:3])\n",
    "print(x[:3]) # note that if there is nothing to the left of the colon, the 0 is implicit\n",
    "print(x[1:]) # if there is nothing to the right of the colon, it will slice through the end\n",
    "# you can get fancy and slice with negative integers!  see if you can make sense of this one\n",
    "print(x[:-2]) "
   ]
  },
  {
   "cell_type": "code",
   "execution_count": 19,
   "metadata": {},
   "outputs": [
    {
     "name": "stdout",
     "output_type": "stream",
     "text": [
      "[1, 2, 3, 4]\n",
      "[1, 486.1, 3, 4]\n"
     ]
    }
   ],
   "source": [
    "# You can reassign individual entries in a list.\n",
    "x = [1, 2, 3, 4]\n",
    "print(x)\n",
    "x[1] = 486.1\n",
    "print(x)"
   ]
  },
  {
   "cell_type": "code",
   "execution_count": 20,
   "metadata": {},
   "outputs": [
    {
     "name": "stdout",
     "output_type": "stream",
     "text": [
      "[1, 'a string', [1, 2, 3]]\n",
      "1\n",
      "a string\n",
      "[1, 2, 3]\n",
      "1\n"
     ]
    }
   ],
   "source": [
    "# Lists can hold anything!  Even other lists.\n",
    "a = [1, \"a string\", [1, 2, 3]]\n",
    "print(a)\n",
    "print(a[0])\n",
    "print(a[1])\n",
    "print(a[2])\n",
    "# note that the second set of square brackets refers \n",
    "# to the inner list at index 2 in the outer list\n",
    "print(a[2][0])"
   ]
  },
  {
   "cell_type": "markdown",
   "metadata": {},
   "source": [
    "There are lots of built-in [tools](https://docs.python.org/3/tutorial/datastructures.html) for manipulating lists in Python.  While slicing makes a copy of the list, some list operations will change the list."
   ]
  },
  {
   "cell_type": "code",
   "execution_count": 21,
   "metadata": {},
   "outputs": [
    {
     "name": "stdout",
     "output_type": "stream",
     "text": [
      "[1, 3, 5, 7, 9]\n"
     ]
    }
   ],
   "source": [
    "# construct a list, starting at 1, ending at 10 (exclusive) and stepping by 2's\n",
    "# in python3, the builtin range function needs to be collected into a list as shown below\n",
    "x = list(range(1, 10, 2))\n",
    "print(x)"
   ]
  },
  {
   "cell_type": "code",
   "execution_count": 22,
   "metadata": {},
   "outputs": [
    {
     "name": "stdout",
     "output_type": "stream",
     "text": [
      "[0, 1, 2, 3, 4]\n"
     ]
    }
   ],
   "source": [
    "# construct a list, implicitly starting at 0, and ending at 5 (exclusive), \n",
    "# stepping implicity by 1\n",
    "y = list(range(5))\n",
    "print(y)"
   ]
  },
  {
   "cell_type": "code",
   "execution_count": 23,
   "metadata": {},
   "outputs": [
    {
     "name": "stdout",
     "output_type": "stream",
     "text": [
      "[1, 3, 5, 7, 9, 0, 1, 2, 3, 4]\n"
     ]
    }
   ],
   "source": [
    "# adding lists will make a new list by combining the two\n",
    "print(x + y)"
   ]
  },
  {
   "cell_type": "code",
   "execution_count": 24,
   "metadata": {},
   "outputs": [
    {
     "name": "stdout",
     "output_type": "stream",
     "text": [
      "[0, 1, 2, 3, 4, 0, 1, 2, 3, 4]\n"
     ]
    }
   ],
   "source": [
    "# multiplying lists by integers\n",
    "print(2 * y)"
   ]
  },
  {
   "cell_type": "code",
   "execution_count": 25,
   "metadata": {},
   "outputs": [
    {
     "name": "stdout",
     "output_type": "stream",
     "text": [
      "[1, 3, 5, 7, 9, 0, 1, 2, 3, 4]\n",
      "[0, 1, 1, 2, 3, 3, 4, 5, 7, 9]\n"
     ]
    }
   ],
   "source": [
    "# make a new list and sort it\n",
    "z = x + y\n",
    "print(z)\n",
    "z.sort()\n",
    "print(z)"
   ]
  },
  {
   "cell_type": "code",
   "execution_count": 26,
   "metadata": {},
   "outputs": [
    {
     "name": "stdout",
     "output_type": "stream",
     "text": [
      "[3, 2, 1]\n",
      "[3, 2, 1, 0]\n"
     ]
    }
   ],
   "source": [
    "# appending to lists\n",
    "x = [3, 2]\n",
    "x.append(1)\n",
    "print(x)\n",
    "x.append(0)\n",
    "print(x)"
   ]
  },
  {
   "cell_type": "markdown",
   "metadata": {},
   "source": [
    "## Tuples\n",
    "A tuple is like a list, but is immutable, meaning you can't change the value of an entry after it's created.  Tuples are specified with parentheses instead of square brackets."
   ]
  },
  {
   "cell_type": "code",
   "execution_count": 27,
   "metadata": {},
   "outputs": [
    {
     "name": "stdout",
     "output_type": "stream",
     "text": [
      "('a', 'b', 'c')\n",
      "b\n"
     ]
    }
   ],
   "source": [
    "letters = ('a', 'b', 'c')\n",
    "print(letters)\n",
    "print(letters[1]) # will print 'b', recall we index starting at 0\n",
    "# letters[0] = 'A' # would get a TypeError since tuples cannot be changed after creation"
   ]
  },
  {
   "cell_type": "markdown",
   "metadata": {},
   "source": [
    "## Conditionals and booleans\n",
    "A boolean variable has one of two states, either `True` or `False`.  Boolean variables can be combined with the binary operators `and` and `or`, and inverted with the unary operator `not`."
   ]
  },
  {
   "cell_type": "code",
   "execution_count": 28,
   "metadata": {},
   "outputs": [
    {
     "name": "stdout",
     "output_type": "stream",
     "text": [
      "False\n",
      "True\n",
      "False True\n"
     ]
    }
   ],
   "source": [
    "a = True\n",
    "b = False\n",
    "print(a and b)\n",
    "print(a or b)\n",
    "print(not a, not b)"
   ]
  },
  {
   "cell_type": "code",
   "execution_count": 29,
   "metadata": {},
   "outputs": [
    {
     "name": "stdout",
     "output_type": "stream",
     "text": [
      "False\n",
      "True\n"
     ]
    }
   ],
   "source": [
    "# Numerical comparison operators (e.g., \"equal to\" or \"less than\") will return booleans.\n",
    "print(1 == 2)  # equal to\n",
    "print(1 != 2)  # not equal to"
   ]
  },
  {
   "cell_type": "code",
   "execution_count": 30,
   "metadata": {},
   "outputs": [
    {
     "name": "stdout",
     "output_type": "stream",
     "text": [
      "True\n",
      "True\n"
     ]
    }
   ],
   "source": [
    "print(1 < 2)   # less than\n",
    "print(1 <= 2)  # less than or equal to"
   ]
  },
  {
   "cell_type": "code",
   "execution_count": 31,
   "metadata": {},
   "outputs": [
    {
     "name": "stdout",
     "output_type": "stream",
     "text": [
      "False\n",
      "False\n"
     ]
    }
   ],
   "source": [
    "print(1 > 2)   # greater than\n",
    "print(1 >= 2)  # greater than or equal to"
   ]
  },
  {
   "cell_type": "markdown",
   "metadata": {},
   "source": [
    "A conditional is a statement that lets us choose different code evalutations depending on the state of a boolean value.  They follow a simple form:\n",
    "```\n",
    "if condition evaluates to True:\n",
    "    do something\n",
    "```\n",
    "Note the colon after the condition, and also the indentation of the block inside of the conditional statement.\n",
    "\n",
    "<img style=\"float: left;\" src=\"https://d30y9cdsu7xlg0.cloudfront.net/png/11431-200.png\">\n",
    "Indentation matters in Python!  While some programming languages use braces to separate between different blocks of code, Python uses the indentation as a way of distinguishing whether code is inside or outside of a block.  For example, here\n",
    "```python\n",
    "if condition:\n",
    "    print('condition is True')\n",
    "print('condition may be True or False')\n",
    "```\n",
    "the first line will only print if the condition is `True` while the second line will always print out."
   ]
  },
  {
   "cell_type": "markdown",
   "metadata": {},
   "source": [
    "To do some action given that the condition is false, use the `else` keyword."
   ]
  },
  {
   "cell_type": "code",
   "execution_count": 32,
   "metadata": {},
   "outputs": [
    {
     "name": "stdout",
     "output_type": "stream",
     "text": [
      "5 is less than or equal to 10\n"
     ]
    }
   ],
   "source": [
    "x = 5\n",
    "if x > 10:\n",
    "    print(x, 'is greater than 10')\n",
    "else:\n",
    "    print(x, 'is less than or equal to 10')"
   ]
  },
  {
   "cell_type": "markdown",
   "metadata": {},
   "source": [
    "Conditionals can be chained together with the `elif` (short for else if) keyword."
   ]
  },
  {
   "cell_type": "code",
   "execution_count": 33,
   "metadata": {},
   "outputs": [
    {
     "name": "stdout",
     "output_type": "stream",
     "text": [
      "10 is greater than 0 and less than or equal to 10\n"
     ]
    }
   ],
   "source": [
    "x = 10\n",
    "if x > 10:\n",
    "    print(x, 'is greater than 10')\n",
    "elif x > 0:\n",
    "    print(x, 'is greater than 0 and less than or equal to 10')\n",
    "else:\n",
    "    print(x, 'is less than or equal to 0')"
   ]
  },
  {
   "cell_type": "markdown",
   "metadata": {},
   "source": [
    "## Loops\n",
    "Some times we want to repeat the same series of steps many times.  Python has two kinds of loops: `for` loops and `while` loops."
   ]
  },
  {
   "cell_type": "markdown",
   "metadata": {},
   "source": [
    "A `while` loop will repeat a block of code as long as some condition is satisfied."
   ]
  },
  {
   "cell_type": "code",
   "execution_count": 34,
   "metadata": {
    "scrolled": true
   },
   "outputs": [
    {
     "name": "stdout",
     "output_type": "stream",
     "text": [
      "3\n",
      "2\n",
      "1\n",
      "liftoff!\n"
     ]
    }
   ],
   "source": [
    "countdown = 3\n",
    "while countdown > 0:\n",
    "    print(countdown)\n",
    "    countdown = countdown - 1\n",
    "print('liftoff!')"
   ]
  },
  {
   "cell_type": "markdown",
   "metadata": {},
   "source": [
    "<img style=\"float: left;\" src=\"https://d30y9cdsu7xlg0.cloudfront.net/png/11431-200.png\">\n",
    "Make sure to have some way of achieving the condition, or else you'll end up in an endless loop!  For instance, the following `while` loop is nearly identical to the previous example, but will never break:\n",
    "```python\n",
    "countdown = 3\n",
    "while countdown > 0:\n",
    "    print(countdown)\n",
    "    countdown = countdown + 1\n",
    "print('liftoff!')\n",
    "```"
   ]
  },
  {
   "cell_type": "markdown",
   "metadata": {},
   "source": [
    "To make a `for` loop, we'll need a list we can iterate over.  The iteration will define an iteration value (`i` in the example below), which will cycle through the values in the list."
   ]
  },
  {
   "cell_type": "code",
   "execution_count": 35,
   "metadata": {},
   "outputs": [
    {
     "name": "stdout",
     "output_type": "stream",
     "text": [
      "0\n",
      "1\n",
      "2\n",
      "3\n"
     ]
    }
   ],
   "source": [
    "mylist = [0, 1, 2, 3]\n",
    "for i in mylist:\n",
    "    print(i)"
   ]
  },
  {
   "cell_type": "markdown",
   "metadata": {},
   "source": [
    "As with conditionals, the indentation block indicates whether or not a line is in the loop or not."
   ]
  },
  {
   "cell_type": "code",
   "execution_count": 36,
   "metadata": {},
   "outputs": [
    {
     "name": "stdout",
     "output_type": "stream",
     "text": [
      "0\n",
      "1\n",
      "2\n",
      "3\n",
      "all done\n"
     ]
    }
   ],
   "source": [
    "mylist = [0, 1, 2, 3]\n",
    "for i in mylist:\n",
    "    print(i)\n",
    "print('all done')"
   ]
  },
  {
   "cell_type": "markdown",
   "metadata": {},
   "source": [
    "<img style=\"float: left;\" src=\"https://d30y9cdsu7xlg0.cloudfront.net/png/11431-200.png\">\n",
    "Be careful about changing a list as you iterate over it.  The following loop will never end, despite starting out with a finite list!\n",
    "```python\n",
    "mylist = [0, 1, 2, 3]\n",
    "for i in mylist:\n",
    "    print(i)\n",
    "    mylist.append(2 * i)\n",
    "```"
   ]
  },
  {
   "cell_type": "markdown",
   "metadata": {},
   "source": [
    "You can have loops in loops!"
   ]
  },
  {
   "cell_type": "code",
   "execution_count": 37,
   "metadata": {},
   "outputs": [
    {
     "name": "stdout",
     "output_type": "stream",
     "text": [
      "outer index: 0  outer index: 0\n",
      "outer index: 0  outer index: 1\n",
      "outer index: 0  outer index: 2\n",
      "done with outer iteration 0\n",
      "outer index: 1  outer index: 0\n",
      "outer index: 1  outer index: 1\n",
      "outer index: 1  outer index: 2\n",
      "done with outer iteration 1\n"
     ]
    }
   ],
   "source": [
    "for i in range(2):\n",
    "    for j in range(3):\n",
    "        print('outer index:', i, ' outer index:', j)\n",
    "    print('done with outer iteration', i)"
   ]
  },
  {
   "cell_type": "markdown",
   "metadata": {},
   "source": [
    "## Functions\n",
    "We've already seen some examples of function, like `print`, `len`, and `range`. We'll now see how to define our own functions."
   ]
  },
  {
   "cell_type": "markdown",
   "metadata": {},
   "source": [
    "We define a new function with the `def` keyword.  As with loops and conditionals, there's a colon after the initial line and all other lines in the function are indented.  In the example below, the function name is `norm`, and the variables `x` and `y` are called the arguments, or parameters of the function.  The `return` keyword at the end of the function block indicates that the expression to the right will be outputted by the function."
   ]
  },
  {
   "cell_type": "code",
   "execution_count": 38,
   "metadata": {},
   "outputs": [
    {
     "name": "stdout",
     "output_type": "stream",
     "text": [
      "5.0\n",
      "1.4142135623730951\n"
     ]
    }
   ],
   "source": [
    "def norm(x, y):\n",
    "    n = (x ** 2 + y ** 2) ** (1 / 2)\n",
    "    return n\n",
    "\n",
    "print(norm(4, 3))\n",
    "print(norm(1, -1))"
   ]
  },
  {
   "cell_type": "markdown",
   "metadata": {},
   "source": [
    "<img style=\"float: left;\" src=\"https://d30y9cdsu7xlg0.cloudfront.net/png/11431-200.png\">\n",
    "\n",
    "Functions define their own variable scope.  This means that any variables assigned in the function are not accessible outside of the function.  The examples below demonstrates the difference between the local variable, `dist`, defined within the function `distance`, and the global variable defined in the block below that.  While functions create their own local scope, conditional blocks share the global variable scope.  For more background, see the section on variables and scope in the [Object-Oriented Programming textbook](http://python-textbok.readthedocs.io/en/1.0/Variables_and_Scope.html)."
   ]
  },
  {
   "cell_type": "code",
   "execution_count": 39,
   "metadata": {},
   "outputs": [
    {
     "name": "stdout",
     "output_type": "stream",
     "text": [
      "dist =  2.8284271247461903\n",
      "2.8284271247461903\n"
     ]
    }
   ],
   "source": [
    "def distance(x1, y1, x2, y2):\n",
    "    dist = norm(x2 - x1, y2 - y1)\n",
    "    print(\"dist = \", dist)\n",
    "    return dist\n",
    "\n",
    "result = distance(1, 2, 3, 4)\n",
    "print(result)\n",
    "\n",
    "# print(dist) # will get a NameError since dist is not defined"
   ]
  },
  {
   "cell_type": "code",
   "execution_count": 40,
   "metadata": {},
   "outputs": [
    {
     "name": "stdout",
     "output_type": "stream",
     "text": [
      "dist =  2.8284271247461903\n",
      "dist =  outside variable\n"
     ]
    }
   ],
   "source": [
    "# Now if we assign a value to d outside of the function, it won't be changed by the function\n",
    "dist = \"outside variable\"\n",
    "result = distance(1, 2, 3, 4)\n",
    "print(\"dist = \", dist)"
   ]
  },
  {
   "cell_type": "code",
   "execution_count": 41,
   "metadata": {},
   "outputs": [
    {
     "name": "stdout",
     "output_type": "stream",
     "text": [
      "[1, 2, 3]\n"
     ]
    }
   ],
   "source": [
    "# functions can have no input\n",
    "def make_a_list():\n",
    "    x = [1, 2, 3]\n",
    "    return x\n",
    "\n",
    "y = make_a_list()\n",
    "print(y)"
   ]
  },
  {
   "cell_type": "code",
   "execution_count": 42,
   "metadata": {},
   "outputs": [
    {
     "name": "stdout",
     "output_type": "stream",
     "text": [
      "[2, 4]\n"
     ]
    }
   ],
   "source": [
    "# or no output\n",
    "def double_a_list(x):\n",
    "    # this loops over the indices of the list, x\n",
    "    for i in range(len(x)):\n",
    "        x[i] = 2 * x[i]\n",
    "x = [1, 2]\n",
    "double_a_list(x)\n",
    "print(x)"
   ]
  },
  {
   "cell_type": "markdown",
   "metadata": {},
   "source": [
    "<img style=\"float: left;\" src=\"https://d30y9cdsu7xlg0.cloudfront.net/png/11431-200.png\">\n",
    "\n",
    "The example above shows a function that interacts with the rest of the global scope by changing the state of one of its inputs.  This is in contrast to the purely functional (i.e., behaves like a mathematical function) approach of the example with the `distance()` function.  There can be a time and place for both styles of functions, but in general, the \"impure\" functions can have unintended consequences, such as changing a variable you meant to save for doing something with later."
   ]
  },
  {
   "cell_type": "markdown",
   "metadata": {},
   "source": [
    "It's good practice to include comments that specify what kinds of input the function expects and what it will return.  You can use triple quotes for a multi-line comment.  Remember, code is read much more often than it is written, so well-written comments are incredibly important."
   ]
  },
  {
   "cell_type": "code",
   "execution_count": 43,
   "metadata": {},
   "outputs": [
    {
     "name": "stdout",
     "output_type": "stream",
     "text": [
      "[-1.0, 3.0]\n",
      "[1.0, 3.0]\n",
      "[-1.0, -3.0]\n",
      "[1.0, -3.0]\n",
      "corners: [-1.0, 3.0] [1.0, 3.0] [-1.0, -3.0] [1.0, -3.0]\n"
     ]
    }
   ],
   "source": [
    "def corners_of_rectangle(x_center, y_center, x_size, y_size):\n",
    "    '''\n",
    "    Calculates where the corners of a rectangle will be, given it's location and shape.\n",
    "    \n",
    "    Parameters\n",
    "    ----------\n",
    "    x_center : the x-coordinate of the center\n",
    "    y_center : the y-coordinate of the center\n",
    "    x_size : the span of the rectangle in the x direction\n",
    "    y_size : the span of the rectangle in the y direction\n",
    "    \n",
    "    Returns (as a tuple of lists)\n",
    "    -------\n",
    "    tlc : the top right corner, a list of [x coordinate, y coordinate]\n",
    "    trc : the top left corner, a list of [x coordinate, y coordinate]\n",
    "    blc : the bottom left corner, a list of [x coordinate, y coordinate]\n",
    "    brc : the bottom right corner, a list of [x coordinate, y coordinate]\n",
    "    '''\n",
    "    # edges are half the size from the center\n",
    "    x_right = x_center + x_size / 2\n",
    "    x_left = x_center - x_size / 2\n",
    "    y_top = y_center + y_size / 2\n",
    "    y_bottom = y_center - y_size / 2\n",
    "    \n",
    "    # corners are at the intersection of two edges\n",
    "    tlc = [x_left, y_top]\n",
    "    trc = [x_right, y_top]\n",
    "    blc = [x_left, y_bottom]\n",
    "    brc = [x_right, y_bottom]\n",
    "    \n",
    "    return tlc, trc, blc, brc\n",
    "\n",
    "corners = corners_of_rectangle(0, 0, 2, 6)\n",
    "\n",
    "for corner in corners:\n",
    "    print(corner)\n",
    "\n",
    "# we can also \"unpack\" the resulting tuple at assignment, like so:\n",
    "tlc, trc, blc, brc = corners_of_rectangle(0, 0, 2, 6)\n",
    "print('corners:', tlc, trc, blc, brc)"
   ]
  },
  {
   "cell_type": "markdown",
   "metadata": {},
   "source": [
    "One nice thing about working in the notebook environment: much of the documentation for functions and other objects are built into their definitions.  You can access them interactively with the `help` function."
   ]
  },
  {
   "cell_type": "code",
   "execution_count": 44,
   "metadata": {},
   "outputs": [
    {
     "name": "stdout",
     "output_type": "stream",
     "text": [
      "Help on built-in function append:\n",
      "\n",
      "append(...) method of builtins.list instance\n",
      "    L.append(object) -> None -- append object to end\n",
      "\n"
     ]
    }
   ],
   "source": [
    "x = [0, 1, 2]\n",
    "help(x.append) # prints out the documentation string for the append function"
   ]
  },
  {
   "cell_type": "code",
   "execution_count": 45,
   "metadata": {},
   "outputs": [
    {
     "name": "stdout",
     "output_type": "stream",
     "text": [
      "Help on function corners_of_rectangle in module __main__:\n",
      "\n",
      "corners_of_rectangle(x_center, y_center, x_size, y_size)\n",
      "    Calculates where the corners of a rectangle will be, given it's location and shape.\n",
      "    \n",
      "    Parameters\n",
      "    ----------\n",
      "    x_center : the x-coordinate of the center\n",
      "    y_center : the y-coordinate of the center\n",
      "    x_size : the span of the rectangle in the x direction\n",
      "    y_size : the span of the rectangle in the y direction\n",
      "    \n",
      "    Returns (as a tuple of lists)\n",
      "    -------\n",
      "    tlc : the top right corner, a list of [x coordinate, y coordinate]\n",
      "    trc : the top left corner, a list of [x coordinate, y coordinate]\n",
      "    blc : the bottom left corner, a list of [x coordinate, y coordinate]\n",
      "    brc : the bottom right corner, a list of [x coordinate, y coordinate]\n",
      "\n"
     ]
    }
   ],
   "source": [
    "# this even works for functions that you define!\n",
    "help(corners_of_rectangle)"
   ]
  },
  {
   "cell_type": "markdown",
   "metadata": {},
   "source": [
    "## Importing other modules\n",
    "Whenever possible, it's nice to not have to \"reinvent the wheel\".  That is, if someone already figured out a good solution for what you want to do, make use of their hard work (with proper credit of course).  The [Python standard library](https://docs.python.org/3/library/) includes lots of packages, and many people publish third-party Python packages under free and open source software licenses.\n",
    "\n",
    "Let's say we want to do some trigonometry.  We could look up algorithms for approximating a sine function from the basic operations we've already used.  But the standard library module `math` already does this.  We can bring in this module to our global scope using the `import` keyword."
   ]
  },
  {
   "cell_type": "code",
   "execution_count": 46,
   "metadata": {
    "collapsed": true
   },
   "outputs": [],
   "source": [
    "import math"
   ]
  },
  {
   "cell_type": "code",
   "execution_count": 47,
   "metadata": {},
   "outputs": [
    {
     "name": "stdout",
     "output_type": "stream",
     "text": [
      "Help on built-in function sin in module math:\n",
      "\n",
      "sin(...)\n",
      "    sin(x)\n",
      "    \n",
      "    Return the sine of x (measured in radians).\n",
      "\n",
      "pi =  3.141592653589793\n",
      "sin( 0 ) =  0.0\n",
      "sin( 0.7853981633974483 ) =  0.7071067811865475\n",
      "sin( 1.5707963267948966 ) =  1.0\n",
      "sin( 3.141592653589793 ) =  1.2246467991473532e-16\n"
     ]
    }
   ],
   "source": [
    "# now we have access to the function sin, and the float pi, as attributes of math\n",
    "help(math.sin)\n",
    "print('pi = ', math.pi)\n",
    "angles = [0, math.pi / 4, math.pi / 2, math.pi]\n",
    "for angle in angles:\n",
    "    print('sin(', angle, ') = ', math.sin(angle))"
   ]
  },
  {
   "cell_type": "markdown",
   "metadata": {},
   "source": [
    "There are variants on this import statement that do somewhat different things.  For instance, if we knew we only wanted to use pi, sin, cos, and tan, we could do the following:"
   ]
  },
  {
   "cell_type": "code",
   "execution_count": 48,
   "metadata": {
    "collapsed": true
   },
   "outputs": [],
   "source": [
    "from math import pi, sin, cos, tan"
   ]
  },
  {
   "cell_type": "code",
   "execution_count": 49,
   "metadata": {},
   "outputs": [
    {
     "name": "stdout",
     "output_type": "stream",
     "text": [
      "0.7071067811865475\n",
      "0.7071067811865476\n",
      "0.9999999999999999\n",
      "0.9999999999999999\n"
     ]
    }
   ],
   "source": [
    "# now we have access to these objects without explicitly referring to the math module\n",
    "a = pi / 4\n",
    "print(sin(a))\n",
    "print(cos(a))\n",
    "print(sin(a) / cos(a))\n",
    "print(tan(a))"
   ]
  },
  {
   "cell_type": "markdown",
   "metadata": {},
   "source": [
    "## Putting it all together\n",
    "Let's look an example that uses everything we've looked at so far.  Suppose we need to get some targets for an upcoming observing run.  We know their spatial coordinates and their brightness, and we've stored these values in lists."
   ]
  },
  {
   "cell_type": "code",
   "execution_count": 50,
   "metadata": {
    "collapsed": true
   },
   "outputs": [],
   "source": [
    "# There are twenty potential targets in a particular galaxy cluster.\n",
    "# Each target's position and brightness is given by a particular index into the lists below\n",
    "\n",
    "# right ascention, or longitude on the sky, measured in degrees\n",
    "x_values = [182.47525964,  181.71979313,  182.01188744,  182.38965086,\n",
    "            181.33694731,  181.81918184,  182.12838376,  182.24847701,\n",
    "            181.96221347,  182.1016029 ,  181.81358103,  182.36078662,\n",
    "            182.47452539,  182.20960101,  182.44307302,  181.32153755,\n",
    "            181.95492827,  182.37629458,  181.89390667,  182.04027463]\n",
    "# declination, or latitude on the sky, measured in degrees\n",
    "y_values = [14.57684245,  14.0413467 ,  14.42422892,  13.72048441,\n",
    "            14.32234319,  13.93295502,  14.66749945,  14.04502233,\n",
    "            14.44982115,  14.59439852,  14.84721984,  15.02108029,\n",
    "            14.28635226,  14.36287386,  14.37801609,  14.25512123,\n",
    "            14.29892983,  15.04374266,  14.08003671,  14.48721843]\n",
    "# magnitude, a (literally) backwards system of measuring light flux,\n",
    "# such that larger magnitude is fainter\n",
    "magnitudes = [22.8003388 ,  19.76338384,  19.38678407,  22.77904055,\n",
    "              19.40079346,  16.90532576,  20.5119855 ,  17.20244618,\n",
    "              21.32856068,  23.49640448,  21.59814329,  16.54993158,\n",
    "              20.86924288,  23.69540075,  23.25189441,  20.16867178,\n",
    "              18.06682487,  20.9476858 ,  21.22210576,  16.55301419]"
   ]
  },
  {
   "cell_type": "code",
   "execution_count": 51,
   "metadata": {
    "scrolled": false
   },
   "outputs": [
    {
     "name": "stdout",
     "output_type": "stream",
     "text": [
      "Target 0 : x = 182.47525964 deg\n",
      "           y = 14.57684245 deg\n",
      "           mag = 22.8003388\n",
      "Target 1 : x = 181.71979313 deg\n",
      "           y = 14.0413467 deg\n",
      "           mag = 19.76338384\n",
      "Target 2 : x = 182.01188744 deg\n",
      "           y = 14.42422892 deg\n",
      "           mag = 19.38678407\n",
      "Target 3 : x = 182.38965086 deg\n",
      "           y = 13.72048441 deg\n",
      "           mag = 22.77904055\n",
      "Target 4 : x = 181.33694731 deg\n",
      "           y = 14.32234319 deg\n",
      "           mag = 19.40079346\n",
      "Target 5 : x = 181.81918184 deg\n",
      "           y = 13.93295502 deg\n",
      "           mag = 16.90532576\n",
      "Target 6 : x = 182.12838376 deg\n",
      "           y = 14.66749945 deg\n",
      "           mag = 20.5119855\n",
      "Target 7 : x = 182.24847701 deg\n",
      "           y = 14.04502233 deg\n",
      "           mag = 17.20244618\n",
      "Target 8 : x = 181.96221347 deg\n",
      "           y = 14.44982115 deg\n",
      "           mag = 21.32856068\n",
      "Target 9 : x = 182.1016029 deg\n",
      "           y = 14.59439852 deg\n",
      "           mag = 23.49640448\n",
      "Target 10 : x = 181.81358103 deg\n",
      "           y = 14.84721984 deg\n",
      "           mag = 21.59814329\n",
      "Target 11 : x = 182.36078662 deg\n",
      "           y = 15.02108029 deg\n",
      "           mag = 16.54993158\n",
      "Target 12 : x = 182.47452539 deg\n",
      "           y = 14.28635226 deg\n",
      "           mag = 20.86924288\n",
      "Target 13 : x = 182.20960101 deg\n",
      "           y = 14.36287386 deg\n",
      "           mag = 23.69540075\n",
      "Target 14 : x = 182.44307302 deg\n",
      "           y = 14.37801609 deg\n",
      "           mag = 23.25189441\n",
      "Target 15 : x = 181.32153755 deg\n",
      "           y = 14.25512123 deg\n",
      "           mag = 20.16867178\n",
      "Target 16 : x = 181.95492827 deg\n",
      "           y = 14.29892983 deg\n",
      "           mag = 18.06682487\n",
      "Target 17 : x = 182.37629458 deg\n",
      "           y = 15.04374266 deg\n",
      "           mag = 20.9476858\n",
      "Target 18 : x = 181.89390667 deg\n",
      "           y = 14.08003671 deg\n",
      "           mag = 21.22210576\n",
      "Target 19 : x = 182.04027463 deg\n",
      "           y = 14.48721843 deg\n",
      "           mag = 16.55301419\n"
     ]
    }
   ],
   "source": [
    "# print out the potential targets, their positions and magnitude\n",
    "for i in range(len(x_values)):\n",
    "    x = x_values[i]\n",
    "    y = y_values[i]\n",
    "    magnitude = magnitudes[i]\n",
    "    print('Target', i, ': x =', x, 'deg') \n",
    "    print('           y =', y, 'deg')\n",
    "    print('           mag =', magnitude)"
   ]
  },
  {
   "cell_type": "code",
   "execution_count": 52,
   "metadata": {
    "collapsed": true
   },
   "outputs": [],
   "source": [
    "# we want targets that are bright enough (magnitude < 23)\n",
    "# and that are close enough in distance to the cluster's center\n",
    "x_center = 182.07387\n",
    "y_center = 14.36368\n",
    "magnitude_limit = 23\n",
    "distance_limit = 0.5 # in degrees"
   ]
  },
  {
   "cell_type": "markdown",
   "metadata": {},
   "source": [
    "In the function below, we'll use the small-angle approximation for the angular separation between points on the sphere:\n",
    "\n",
    "$$ \\Delta \\theta ^ 2 \\approx (\\Delta \\alpha \\cos(\\delta)) ^ 2 + (\\Delta \\delta) ^ 2$$\n",
    "\n",
    "where $(\\alpha, \\delta)$ are the spherical coordinates in radians.  See [here](http://www.physicspages.com/2015/04/11/angular-distances-on-the-celestial-sphere/) for more on angular distances."
   ]
  },
  {
   "cell_type": "code",
   "execution_count": 53,
   "metadata": {
    "collapsed": true
   },
   "outputs": [],
   "source": [
    "# let's define some function that will help us figure out if we have any good targets\n",
    "def angular_distance(x1, y1, x2, y2):\n",
    "    '''\n",
    "    Calculate the distance between two points on the celestial sphere, (x1, y1) and (x2, y2).\n",
    "    \n",
    "    Parameters\n",
    "    ----------\n",
    "    x1 : x coordinate of the first object in degrees\n",
    "    y1 : y coordinate of the first object in degrees\n",
    "    x2 : x coordinate of the second object in degrees\n",
    "    y2 : y coordinate of the second object in degrees\n",
    "    \n",
    "    Returns\n",
    "    -------\n",
    "    separation : the angular separation of the two objects, in degrees\n",
    "    '''\n",
    "    # the difference in each coordinate, still in degrees\n",
    "    dx = x2 - x1\n",
    "    dy = y2 - y1\n",
    "    \n",
    "    # convert to radians for computing a trig function\n",
    "    dy_radians = dy * math.pi / 180 \n",
    "    \n",
    "    separation = math.sqrt((dx * math.cos(dy_radians)) ** 2 + dy ** 2)\n",
    "    return separation"
   ]
  },
  {
   "cell_type": "code",
   "execution_count": 54,
   "metadata": {
    "scrolled": false
   },
   "outputs": [
    {
     "name": "stdout",
     "output_type": "stream",
     "text": [
      "Target 0 has a separation of 0.4544773296668882 degrees\n",
      "Target 1 has a separation of 0.47881647664266175 degrees\n",
      "Target 2 has a separation of 0.086648745904563 degrees\n",
      "Target 3 has a separation of 0.7165232394137605 degrees\n",
      "Target 4 has a separation of 0.7380809577766883 degrees\n",
      "Target 5 has a separation of 0.5003862522880343 degrees\n",
      "Target 6 has a separation of 0.3086712242313404 degrees\n",
      "Target 7 has a separation of 0.36335846703744323 degrees\n",
      "Target 8 has a separation of 0.14102287131798683 degrees\n",
      "Target 9 has a separation of 0.2323792949946497 degrees\n",
      "Target 10 has a separation of 0.5491414203222675 degrees\n",
      "Target 11 has a separation of 0.7172764119774501 degrees\n",
      "Target 12 has a separation of 0.40804905160590726 degrees\n",
      "Target 13 has a separation of 0.13573340389776162 degrees\n",
      "Target 14 has a separation of 0.3694812375747068 degrees\n",
      "Target 15 has a separation of 0.7601230755350352 degrees\n",
      "Target 16 has a separation of 0.13542415435451546 degrees\n",
      "Target 17 has a separation of 0.7442667288344806 degrees\n",
      "Target 18 has a separation of 0.33591594542729797 degrees\n",
      "Target 19 has a separation of 0.12802494805790474 degrees\n",
      "There are 10 targets that are observable.\n"
     ]
    }
   ],
   "source": [
    "# now let's loop through each potential target and evaluate if each is close enough\n",
    "# and also bright enough\n",
    "# we'll store the boolean variables in a list of the same size as the original data\n",
    "\n",
    "# makes empty lists for being close and bright\n",
    "close_enough_list = []\n",
    "bright_enough_list = []\n",
    "\n",
    "# let's keep track of how many are both close and bright\n",
    "count = 0 \n",
    "\n",
    "# iterate across each of the indices of the data lists\n",
    "for i in range(len(x_values)):\n",
    "    x = x_values[i]\n",
    "    y = y_values[i]\n",
    "    magnitude = magnitudes[i]\n",
    "    separation = angular_distance(x, y, x_center, y_center)\n",
    "    print('Target', i, 'has a separation of', separation, 'degrees')\n",
    "    # isclose is a boolean variable that is True if the target is close enough,\n",
    "    # and False otherwise; ditto for isbright\n",
    "    isclose = separation < distance_limit\n",
    "    isbright = magnitude < magnitude_limit\n",
    "    \n",
    "    if isclose and isbright:\n",
    "        # only add to our count if the target is close and bright\n",
    "        count += 1\n",
    "    # but we want to add the state of a target regardless of if it is selected or not\n",
    "    close_enough_list.append(isclose)\n",
    "    bright_enough_list.append(isbright)\n",
    "    \n",
    "print('There are', count, 'targets that are observable.')"
   ]
  },
  {
   "cell_type": "markdown",
   "metadata": {},
   "source": [
    "So we found that we have 10 observable targets, but which ones are they?  We could have stored the indices as we went through the loop above.  But we can also just get those now too."
   ]
  },
  {
   "cell_type": "code",
   "execution_count": 55,
   "metadata": {},
   "outputs": [
    {
     "name": "stdout",
     "output_type": "stream",
     "text": [
      "Target 0 : x = 182.47525964 deg\n",
      "           y = 14.57684245 deg\n",
      "           mag = 22.8003388\n",
      "Target 1 : x = 181.71979313 deg\n",
      "           y = 14.0413467 deg\n",
      "           mag = 19.76338384\n",
      "Target 2 : x = 182.01188744 deg\n",
      "           y = 14.42422892 deg\n",
      "           mag = 19.38678407\n",
      "Target 6 : x = 182.12838376 deg\n",
      "           y = 14.66749945 deg\n",
      "           mag = 20.5119855\n",
      "Target 7 : x = 182.24847701 deg\n",
      "           y = 14.04502233 deg\n",
      "           mag = 17.20244618\n",
      "Target 8 : x = 181.96221347 deg\n",
      "           y = 14.44982115 deg\n",
      "           mag = 21.32856068\n",
      "Target 12 : x = 182.47452539 deg\n",
      "           y = 14.28635226 deg\n",
      "           mag = 20.86924288\n",
      "Target 16 : x = 181.95492827 deg\n",
      "           y = 14.29892983 deg\n",
      "           mag = 18.06682487\n",
      "Target 18 : x = 181.89390667 deg\n",
      "           y = 14.08003671 deg\n",
      "           mag = 21.22210576\n",
      "Target 19 : x = 182.04027463 deg\n",
      "           y = 14.48721843 deg\n",
      "           mag = 16.55301419\n"
     ]
    }
   ],
   "source": [
    "targets = []\n",
    "for i in range(len(close_enough_list)):\n",
    "    isclose = close_enough_list[i]\n",
    "    isbright = bright_enough_list[i]\n",
    "    if isclose and isbright:\n",
    "        targets.append(i)\n",
    "\n",
    "# print out the observable targets, their positions and magnitude\n",
    "for i in targets:\n",
    "    x = x_values[i]\n",
    "    y = y_values[i]\n",
    "    magnitude = magnitudes[i]\n",
    "    print('Target', i, ': x =', x, 'deg') \n",
    "    print('           y =', y, 'deg')\n",
    "    print('           mag =', magnitude)"
   ]
  },
  {
   "cell_type": "markdown",
   "metadata": {},
   "source": [
    "Of course, in this example, looking at twenty objects wouldn't have been too bad to do by eye.  But If you needed to evaluate thousands of objects?  Automate it!"
   ]
  },
  {
   "cell_type": "markdown",
   "metadata": {},
   "source": [
    "## What didn't we cover?\n",
    "A lot!  But that's okay, hopefully this has been enough to get started.  You might see some of the topics listed below during the course of your work.\n",
    "\n",
    "### Plotting\n",
    "There are a few options for plotting in Python, but arguably the most complete plotting library is `matplotlib`.  The official documentation is rather intimidating, but there are some tutorials and helpful examples [here](http://matplotlib.org/users/pyplot_tutorial.html)\n",
    "\n",
    "### Arrays\n",
    "The unofficial standard for array manipulation in Python is the [`numpy`](http://www.numpy.org/) package.  Arrays are like lists but have a fixed size.  Due to their fixed size in memory, computations with arrays can be much faster than looping over a list of numbers.\n",
    "\n",
    "### Dictionaries\n",
    "Dictionaries are also collections like lists, but they don't have a fixed order to the entries, and are indexed instead by arbitrary key values.\n",
    "\n",
    "### File input/output\n",
    "Python makes it easy to read and write text files. See the official docs [here](https://docs.python.org/3.6/tutorial/inputoutput.html#reading-and-writing-files).\n",
    "\n",
    "### Classes and objects\n",
    "A class is a prototype of an object, and we've been using objects this whole time.  Objects have attributes, which can be the usual types we've talked about like floats and strings.  They can also have methods, like the `sort()` and `append()` functions shared by all lists.  Attributes are accessed using the \"dot\" notation, in that `object.attribute` is a reference to the attribute held by that particular object.  For more on writing your own classes, see [here](http://python-textbok.readthedocs.io/en/1.0/Classes.html)."
   ]
  },
  {
   "cell_type": "code",
   "execution_count": 56,
   "metadata": {},
   "outputs": [
    {
     "data": {
      "text/plain": [
       "<matplotlib.text.Text at 0x109be2358>"
      ]
     },
     "execution_count": 56,
     "metadata": {},
     "output_type": "execute_result"
    },
    {
     "data": {
      "image/png": "[encoded data removed]",
      "text/plain": [
       "<matplotlib.figure.Figure at 0x109b01da0>"
      ]
     },
     "metadata": {},
     "output_type": "display_data"
    }
   ],
   "source": [
    "# example plot for our target sample\n",
    "# more to be seen in the plotting tutorial!\n",
    "\n",
    "%matplotlib inline\n",
    "from matplotlib import pyplot as plt\n",
    "\n",
    "plt.scatter(x_values, y_values, c=magnitudes, \n",
    "            cmap='viridis_r', s=200, marker='o', lw=1, alpha=0.8)\n",
    "cb = plt.colorbar()\n",
    "plt.xlim(plt.xlim()[::-1])  # reverses the x-axis, since the sky is backwards\n",
    "plt.xlabel('RA [deg]')\n",
    "plt.ylabel('Dec [deg]')\n",
    "cb.set_label('Magnitude')\n",
    "plt.title('Target candidates')"
   ]
  },
  {
   "cell_type": "markdown",
   "metadata": {},
   "source": [
    "# Glossary\n",
    "\n",
    "### Python\n",
    "* Python - a dynamically-typed interpreted programming language\n",
    "* script - a file with lines of Python code\n",
    "* module - a script that can be imported into another script\n",
    "* package - a module or group of modules that are easily installed\n",
    "* Jupyter notebook - a browser-based environment for running programs, AKA an Ipython notebook\n",
    "* Jupyterhub - a server that provides users with individual Jupyter notebooks\n",
    "* amalthea - the name of our very own Jupyterhub server, also the fifth-discovered moon of Jupiter (discovered at Lick Observatory!)\n",
    "\n",
    "### Programming terms\n",
    "* syntax - the set of rules that define a legal statement in a language\n",
    "* variable - a label for an object in the computer's memory\n",
    "* assignment - the act of storing a value in a variable\n",
    "* scope - for a particular variable, its scope refers to the parts of the code where its assignment is valid; it can be global to the whole script, or local to a particular function or class\n",
    "* binary operator - a function that takes two values and returns a new value, e.g., +, -, *, /\n",
    "* unary operator - a function that takes one value and returns a new value, e.g., -, not\n",
    "* loop - an evaluation of the same logic multiple times\n",
    "* conditional - a control statement that determines which of some possible statements will be evaluated\n",
    "* function - an object that can be called with some input values and can return some output values\n",
    "* class - a \"prototype\" of an object, e.g., `int` is a class, and 1, 2, and 3 are instances (or objects) of this class\n",
    "* object - an instance of a particular class; in Python, just about everything is some kind of object\n",
    "* method - a function associated with objects of a particular class; e.g., for the `list` class, the `sort()` function is a method of the class\n",
    "* object-oriented programming - a programming style that relies on organizing logic into classes of objects which can have their own attributes and functions\n",
    "* function programming - a programming style that only uses \"pure functions\" (that is, functions which do not have side effects, and only interact with the rest of the scope through their return values)\n",
    "\n",
    "### Basic variable types\n",
    "* string - a sequence of characters, e.g., \"Hello Python!\"\n",
    "* int - a type of numeric value, short for integer\n",
    "* float - a type of numeric value, short for floating point (an approximation of a real number)\n",
    "* bool - short for Boolean, a value that is either True or False\n",
    "\n",
    "### Data structures\n",
    "* list - a sequence of values, indexed by the natural numbers (0, 1, 2, ...)\n",
    "* dictionary - a set of values, indexed by arbitrary objects\n",
    "* array - a sequence of values, indexed as a list, but fixed in size\n"
   ]
  }
 ],
 "metadata": {
  "kernelspec": {
   "display_name": "Python 3",
   "language": "python",
   "name": "python3"
  },
  "language_info": {
   "codemirror_mode": {
    "name": "ipython",
    "version": 3
   },
   "file_extension": ".py",
   "mimetype": "text/x-python",
   "name": "python",
   "nbconvert_exporter": "python",
   "pygments_lexer": "ipython3",
   "version": "3.5.2"
  }
 },
 "nbformat": 4,
 "nbformat_minor": 2
}

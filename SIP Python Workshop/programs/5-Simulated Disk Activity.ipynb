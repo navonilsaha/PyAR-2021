{
 "cells": [
  {
   "cell_type": "markdown",
   "metadata": {
    "collapsed": true
   },
   "source": [
    "In this activity, you are going to simulate the disk of Andromeda! \n",
    "\n",
    "Begin, as before, by importing the key programs. \"fakedisk\" is the program that will generate the simulated disk--matplotlib and numpy should be familar to you at this point."
   ]
  },
  {
   "cell_type": "code",
   "execution_count": null,
   "metadata": {
    "collapsed": true
   },
   "outputs": [],
   "source": [
    "from fakedisk import fakedisk\n",
    "import matplotlib.pyplot as plt\n",
    "%matplotlib inline\n",
    "import numpy as np"
   ]
  },
  {
   "cell_type": "markdown",
   "metadata": {},
   "source": [
    "The following routine makes a plot of the simulated disk. Run this cell."
   ]
  },
  {
   "cell_type": "code",
   "execution_count": null,
   "metadata": {
    "collapsed": true
   },
   "outputs": [],
   "source": [
    "def show_map(sim, quantity, label, vmin=-200, vmax=200, cutout=False): \n",
    "    ax = plt.axes(aspect = 'equal')\n",
    "    \n",
    "    ax.set_xlabel('xi (kpc)')\n",
    "    ax.set_ylabel('eta (kpc)')\n",
    "    ax.set_title('Simulation')\n",
    "    ax.set_xlim(1.2 * max(sim.x), 1.2 * min(sim.x))\n",
    "\n",
    "    if cutout:\n",
    "        #clip into \"mystery cutout\" \n",
    "        sideL  = 0.25 * sim.scaleFactor\n",
    "        ax.set_xlim(sideL, -sideL)\n",
    "        ax.set_ylim(-sideL, sideL)\n",
    "        \n",
    "    tt = ax.scatter(sim.x, sim.z, c=quantity, edgecolors='none', s=2, vmin=vmin, vmax=vmax)\n",
    "\n",
    "    plt.colorbar(tt, label = label)"
   ]
  },
  {
   "cell_type": "markdown",
   "metadata": {},
   "source": [
    "Now, we'd like to create our fake disk! This occurs below when the program \"fakedisk\" is called. "
   ]
  },
  {
   "cell_type": "code",
   "execution_count": null,
   "metadata": {},
   "outputs": [],
   "source": [
    "scale_factor = 20. #Scale length of the disk\n",
    "dispersion = 100.    #Dispersion in the layer\n",
    "incl=77. #Inclination\n",
    "pa0=37.7 #Position Angle\n",
    "vrot=200.\n",
    "n=10000\n",
    "sim = fakedisk(N=n, incl=incl, pa0=pa0, v=vrot, scaleFactor=scale_factor, shape='constant',\n",
    "               dispersion=dispersion)"
   ]
  },
  {
   "cell_type": "markdown",
   "metadata": {},
   "source": [
    "Generate plots of your simulated velocity field below. \n",
    "\n",
    "Once you've made these plots, go back and change the following parameters to see what they mean. What happens when you change the scale factor? The dispersion? The inclination? The position angle? N? Can you guess what these different parameters are referring to? "
   ]
  },
  {
   "cell_type": "code",
   "execution_count": null,
   "metadata": {},
   "outputs": [],
   "source": [
    "#Generate velocity map\n",
    "vmax = 1.3 * sim.vrot\n",
    "show_map(sim, sim.vy, 'Radial velocity (km/s)', vmin=-vmax, vmax=vmax)"
   ]
  },
  {
   "cell_type": "code",
   "execution_count": null,
   "metadata": {},
   "outputs": [],
   "source": [
    "#Generate dispersion map using 200'' smoothing circle.\n",
    "arcsec2kpc = (13.67/3600.) #conversion factor\n",
    "sigma = np.zeros(len(sim.x))\n",
    "sig_sv = np.zeros(len(sim.x))\n",
    "smoothingCircle = 200. * arcsec2kpc\n",
    "for i in range(len(sigma)):\n",
    "    sigma[i], sig_sv[i] = sim.get_sv(i, smoothingCircle)\n",
    "show_map(sim, sigma, 'Velocity dispersion (km/s)', vmin=0, vmax=1.3*np.max(sigma))"
   ]
  },
  {
   "cell_type": "code",
   "execution_count": null,
   "metadata": {},
   "outputs": [],
   "source": [
    "#Also generate a little square cutout velocity map.\n",
    "vmax = 1.3 * sim.vrot\n",
    "show_map(sim, sim.vy, 'Radial velocity (km/s)', vmin=-vmax, vmax=vmax, cutout=True)"
   ]
  },
  {
   "cell_type": "markdown",
   "metadata": {},
   "source": [
    "Now that you're familiar with the parameters and the figures, change the parameters for fakedisk to answer the following questions (feel free to double click on this cell and type your answers below the questions):\n",
    "\n",
    "1) If galaxies A and B have the same geometry, but galaxy A has twice the rotation speed of galaxy B, how do the velocity fields differ on the major axis? On the minor axis? In between?\n",
    "\n",
    "2) If galaxies C and D have the same PA and rotation speed, but galaxy C has an inclination half that of D, how do the velocity fields differ?\n",
    "\n",
    "3) If galaxies E and F have the same inclination and rotation speed, but galaxy E’s major axis position angle is the negative of galaxy F’s, how do the velocity fields differ?\n",
    "\n"
   ]
  },
  {
   "cell_type": "markdown",
   "metadata": {},
   "source": [
    "What PA, inclination, velocity, and/or disk radius would make it easiest to study the properties of a real galaxy? What parameters most closely reproduce M31‘s velocity map that you made last time?"
   ]
  },
  {
   "cell_type": "code",
   "execution_count": null,
   "metadata": {
    "collapsed": true
   },
   "outputs": [],
   "source": []
  }
 ],
 "metadata": {
  "anaconda-cloud": {},
  "kernelspec": {
   "display_name": "Python 3",
   "language": "python",
   "name": "python3"
  },
  "language_info": {
   "codemirror_mode": {
    "name": "ipython",
    "version": 3
   },
   "file_extension": ".py",
   "mimetype": "text/x-python",
   "name": "python",
   "nbconvert_exporter": "python",
   "pygments_lexer": "ipython3",
   "version": "3.5.2"
  }
 },
 "nbformat": 4,
 "nbformat_minor": 2
}

{
 "cells": [
  {
   "cell_type": "markdown",
   "metadata": {},
   "source": [
    "## Welcome to the CMD activity!\n",
    "\n",
    "In this activity, you will be making your own color magnitude diagram of the stars in Andromeda targeted by the SPLASH survey. \n",
    "\n",
    "As usual with Jupyter, begin by importing the packages you'll be needing by clicking on the first cell and pressing Shift+Enter. For this activity, you'll only be needing numpy and matplotlib."
   ]
  },
  {
   "cell_type": "code",
   "execution_count": null,
   "metadata": {
    "collapsed": true
   },
   "outputs": [],
   "source": [
    "import numpy as np\n",
    "import matplotlib.pyplot as plt\n",
    "%matplotlib inline\n",
    "import matplotlib as mpl"
   ]
  },
  {
   "cell_type": "markdown",
   "metadata": {},
   "source": [
    "This next cell is my preferred setting for making plots; I like big font and serifs! Feel free to change if you have a different preference!"
   ]
  },
  {
   "cell_type": "code",
   "execution_count": null,
   "metadata": {
    "collapsed": true
   },
   "outputs": [],
   "source": [
    "mpl.rcParams['font.family']='serif'\n",
    "mpl.rcParams['font.size']=14"
   ]
  },
  {
   "cell_type": "markdown",
   "metadata": {},
   "source": [
    "This function initializes the CMD plot and labels the axes. No data is plotted in this function. You don't need to modify this function."
   ]
  },
  {
   "cell_type": "code",
   "execution_count": null,
   "metadata": {
    "collapsed": true
   },
   "outputs": [],
   "source": [
    "def InitializePlot():\n",
    "    plt.clf()\n",
    "    f= plt.figure(figsize=(8,8))\n",
    "    plt.xlim(-1, 9)\n",
    "    plt.ylim(24, 18)\n",
    "    plt.xlabel('F475W - F814W (mag)')\n",
    "    plt.ylabel('F814W (mag)')"
   ]
  },
  {
   "cell_type": "markdown",
   "metadata": {},
   "source": [
    "This function writes a catalog. It takes as arguments the name of the file,  the different quantities you want to put in the catalog, and the names of these quantities. You do not need to modify this function."
   ]
  },
  {
   "cell_type": "code",
   "execution_count": null,
   "metadata": {
    "collapsed": true
   },
   "outputs": [],
   "source": [
    "def WriteCatalog(catalogName, params, paramNameString):\n",
    "    #first, create and open the text file for writing. Choose a name: \n",
    "    catalog = open(catalogName, 'w')\n",
    "\n",
    "    #write first row\n",
    "    catalog.write('# ' + paramNameString + '\\n')\n",
    "\n",
    "    #then, loop through stars and write 1 row for each star.\n",
    "    for i in range(len(params[0])): #loop over stars\n",
    "        for j in range(len(params)): #loop over parameters (ra, dec, v, verr,...)\n",
    "            catalog.write(str(params[j][i]))\n",
    "            catalog.write(' ')\n",
    "        catalog.write('\\n')\n",
    "    catalog.close()\n",
    "\n",
    "    return"
   ]
  },
  {
   "cell_type": "markdown",
   "metadata": {},
   "source": [
    "Okay, now that we have all our packages imported, we are ready to get to the science! The first thing we need to do is read in the file that contains all our data. This file contains the coordinates (ra, dec, xi, eta), the magnitudes (in two different bandpasses), and the velocities of all our stars (we will talk more about velocities next!). \n",
    "\n",
    "As we discussed, the color of the star is a very useful and important quantity; we define the array for \"color\" below."
   ]
  },
  {
   "cell_type": "code",
   "execution_count": null,
   "metadata": {
    "collapsed": true
   },
   "outputs": [],
   "source": [
    "ra, dec, xi, eta, f475w, f814w, v, verr = np.loadtxt('../data/keck_hst_data.txt', unpack = True)\n",
    "color = f475w - f814w"
   ]
  },
  {
   "cell_type": "markdown",
   "metadata": {},
   "source": [
    "Now we can plot a color magnitude diagram of all the objects in our sample:"
   ]
  },
  {
   "cell_type": "code",
   "execution_count": null,
   "metadata": {
    "collapsed": true
   },
   "outputs": [],
   "source": [
    "f = InitializePlot()\n",
    "plt.scatter(color, f814w, c = 'gray', s = 3, edgecolors = 'none')"
   ]
  },
  {
   "cell_type": "markdown",
   "metadata": {},
   "source": [
    "Now that we have our CMD, we want to separate out the stars of different types: main sequence (MS) stars, red giant branch (RGB) stars, and asymptotic giant branch (AGB) stars. The below cell selects the main sequence stars and plots them in blue on top of the CMD. It then writes a catalog in your \"data\" folder that contains the information only for the MS stars.\n",
    "\n",
    "What you'll be doing is adapting and adding to the code below to do the same for the RGB and AGB stars. You want to color code the RGB and AGB stars on the plot, add the labels \"AGB\" and \"RGB\" to the plot, and write the RGB and AGB catalogs.\n",
    "\n",
    "First run the cell to see the plot produced. Then, \"uncomment\" (meaning remove the lines with # signs--the # sign tells Python not to run the line) the line that begins \"rgb=\" and replace a, h, and k with numbers. To decide what numbers to choose, use the \"DividedCMD\" figure in your \"plots\" folder for inspiration. Plot your selected RGB stars, and then do the same for the AGB stars."
   ]
  },
  {
   "cell_type": "code",
   "execution_count": null,
   "metadata": {
    "collapsed": true
   },
   "outputs": [],
   "source": [
    "#========From here on is the part that you're going to copy and\n",
    "#adapt for the RGB and AGB stars===============================\n",
    "\n",
    "#Where condition to isolate main sequence stars\n",
    "ms = (color < 1.75) & (f814w < 23)\n",
    "\n",
    "#Plot MS stars in blue on the plot and label that region \n",
    "f = InitializePlot()\n",
    "plt.scatter(color, f814w, c = 'gray', s = 3, edgecolors = 'none')\n",
    "plt.scatter(color[ms], f814w[ms], c = 'blue', edgecolors = 'none', s = 5)\n",
    "plt.text(-0.5, 23.5, 'MS', color = 'blue', size = 16)\n",
    "\n",
    "#Write a text file containing information for MS stars by calling the\n",
    "#WriteCatalog function on the stars that satisfy the MS condition.\n",
    "#You shouldn't modify the WriteCatalog function itself;\n",
    "#only copy and modify the line below for the AGB and RGB groups. \n",
    "WriteCatalog('../data/MScatalog.txt',\n",
    "             [ra[ms], dec[ms], xi[ms], eta[ms], f475w[ms], f814w[ms], v[ms], verr[ms]],\n",
    "             'RA DEC XI ETA F475W F814W V VERR')\n",
    "\n",
    "#==============================================================\n",
    "#Replace a, h, and k with numbers, and see what happens \n",
    "#rgb= (color > 1.75 ) & (f814w > a*(color-h)**2.+k)\n",
    "##Add the RGB stars to the plot!\n",
    "\n",
    "#Write the catalog here when you're happy with your selection!\n",
    "#Then, add the AGB stars to the plot and write an AGB catalog as well!\n",
    "#==============================================================\n"
   ]
  },
  {
   "cell_type": "code",
   "execution_count": null,
   "metadata": {
    "collapsed": true
   },
   "outputs": [],
   "source": [
    "# Determine what fraction of the entire catalog are selected by the MS, RGB, and AGB criteria\n",
    "nstars = len(color)\n",
    "print('Fraction of stars on the MS: {0:.3f}'.format(np.sum(ms)/nstars))\n",
    "print('Fraction of stars on the RGB: {0:.3f}'.format(np.sum(rgb)/nstars))\n",
    "print('Fraction of stars on the AGB: {0:.3f}'.format(np.sum(agb)/nstars))\n",
    "selected = ms | rgb | agb\n",
    "print('Fraction of stars not selected: {0:.3f}'.format(np.sum(~selected)/nstars))"
   ]
  },
  {
   "cell_type": "code",
   "execution_count": null,
   "metadata": {
    "collapsed": true
   },
   "outputs": [],
   "source": []
  }
 ],
 "metadata": {
  "anaconda-cloud": {},
  "kernelspec": {
   "display_name": "Python 3",
   "language": "python",
   "name": "python3"
  },
  "language_info": {
   "codemirror_mode": {
    "name": "ipython",
    "version": 3
   },
   "file_extension": ".py",
   "mimetype": "text/x-python",
   "name": "python",
   "nbconvert_exporter": "python",
   "pygments_lexer": "ipython3",
   "version": "3.5.2"
  }
 },
 "nbformat": 4,
 "nbformat_minor": 2
}

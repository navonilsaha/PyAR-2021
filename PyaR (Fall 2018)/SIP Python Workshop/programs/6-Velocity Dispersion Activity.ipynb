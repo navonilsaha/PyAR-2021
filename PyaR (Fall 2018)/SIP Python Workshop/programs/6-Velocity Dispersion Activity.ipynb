{
 "cells": [
  {
   "cell_type": "markdown",
   "metadata": {},
   "source": [
    "In this activity, you are going to be making dispersion maps of Andromeda for the 3 different types of stars you learned about in week 1: Main Sequence (MS) stars, Red Giant Branch (RGB) stars, and Asymptotic Giant Branch (AGB) stars. We want to understand what these three maps tell us about the history of the Andromeda galaxy. \n",
    "\n",
    "As usual, begin by running the first cell to import all necessary functions from numpy and matplotlib:"
   ]
  },
  {
   "cell_type": "code",
   "execution_count": null,
   "metadata": {
    "collapsed": true
   },
   "outputs": [],
   "source": [
    "import matplotlib.pyplot as plt\n",
    "%matplotlib inline\n",
    "import numpy as np"
   ]
  },
  {
   "cell_type": "markdown",
   "metadata": {},
   "source": [
    "Here, we are introducing the function \"show_map.\" You may recognize it from last week's activity about simulated disks. Run the below cell--you do not need to make any edits here."
   ]
  },
  {
   "cell_type": "code",
   "execution_count": null,
   "metadata": {
    "collapsed": true
   },
   "outputs": [],
   "source": [
    "def show_map(xi, eta, quantity, label, fileName):\n",
    "    ax = plt.axes(aspect = 'equal')\n",
    "    ax.set_xlabel('xi (kpc)')\n",
    "    ax.set_ylabel('eta (kpc)')\n",
    "    ax.set_title('Dispersion of Real Data')\n",
    "    tt = ax.scatter(xi, eta, c = quantity, edgecolors = 'none', s = 2, vmin=40., vmax=160.)\n",
    "    ax.set_xlim(1, 0)\n",
    "    plt.colorbar(tt, label='Velocity Dispersion (km/s)')\n",
    "    plt.savefig(fileName)"
   ]
  },
  {
   "cell_type": "markdown",
   "metadata": {},
   "source": [
    "This next function is where we are calculating the dispersion. Fill in the incomplete lines of code below. To search for math help in python, Google \"numpy\" followed by the thing you want to do."
   ]
  },
  {
   "cell_type": "code",
   "execution_count": null,
   "metadata": {
    "collapsed": true
   },
   "outputs": [],
   "source": [
    "def get_dispersion(x, z, v, circleSize=300./3600.):\n",
    "    #initialize dispersion to all zeros\n",
    "    dispersion = np.zeros(len(x))\n",
    "\n",
    "    #Loop over all items in list\n",
    "    for i in range(len(x)):\n",
    "        #get coordinates of the item of interest\n",
    "        thisX = x[i]\n",
    "        thisZ = z[i]\n",
    "\n",
    "        #calculate array of distances to this star\n",
    "        dist =\n",
    "        \n",
    "        #pick out stars that are closer than circleSize to the star\n",
    "        keep =\n",
    "\n",
    "        #calculate the velocity dispersion of those stars; assign to the ith element\n",
    "        #of the array \"dispersion\"\n",
    "        dispersion[i] =\n",
    "        \n",
    "    return dispersion"
   ]
  },
  {
   "cell_type": "markdown",
   "metadata": {},
   "source": [
    "The following lines of code are going to call the above two functions to generate the plots we are interested in. It is going to read in the catalogs that you created in the first activity (the CMD activity). If you do not have copies of these catalogs in your \"data\" folder, be sure to download them from Schoology.\n",
    "\n",
    "\n",
    "## Once you've generated your figure, play with the parameter \"circleSize\" in get_dispersion. \n",
    "What happens when you make circleSize=100./3600.? What about 3600./3600.? Work with your partner to try to explain the differences between the two plots. Change the value of circleSize=300./3600. before you continue."
   ]
  },
  {
   "cell_type": "code",
   "execution_count": null,
   "metadata": {
    "collapsed": true
   },
   "outputs": [],
   "source": [
    "#Read data\n",
    "xi, eta, v = np.loadtxt('../data/MScatalog.txt', unpack = True, usecols = (2, 3, 6))\n",
    "\n",
    "##IMPORTANT: THESE NEXT FEW LINES ACCOUNT FOR A BUG IN THE CATALOGS.\n",
    "##MAKE SURE YOU INCLUDE THESE LINES IN YOUR AGB AND RGB CODES.\n",
    "#___________________________\n",
    "keep=(np.abs(v) < 1000.)\n",
    "xi=xi[keep]\n",
    "eta=eta[keep]\n",
    "v=v[keep]\n",
    "#___________________________\n",
    "\n",
    "#Calculate dispersion\n",
    "ms_sigma = get_dispersion(xi, eta, v)\n",
    "#print np.min(sigma), np.max(sigma), np.mean(sigma)\n",
    "\n",
    "#Generate velocity map\n",
    "show_map(xi, eta, ms_sigma, 'Velocity dispersion (km/s)', '../plots/MS_dispersion_map.png')"
   ]
  },
  {
   "cell_type": "code",
   "execution_count": null,
   "metadata": {
    "collapsed": true
   },
   "outputs": [],
   "source": [
    "#Fill in your code for the AGB stars here! "
   ]
  },
  {
   "cell_type": "code",
   "execution_count": null,
   "metadata": {
    "collapsed": true
   },
   "outputs": [],
   "source": [
    "#Fill in your code for the RGB stars here!"
   ]
  },
  {
   "cell_type": "markdown",
   "metadata": {},
   "source": [
    "After you’ve made all 3 maps, open up all 3 plots together (they are saved in your plots foloder). Look at them next to each other. What do you observe about these 3 maps? What do they have in common, and how are they different?"
   ]
  },
  {
   "cell_type": "markdown",
   "metadata": {},
   "source": [
    "Now, plot histograms for the velocity dispersions of the 3 types of stars. If you aren’t sure what a histogram is, begin by Googling that! Hint: to search for plotting help in python, Google “matplotlib” followed by the thing you want to do (for example, if I wanted to make a plot of a line, I would Google “matplotlib plot line”)."
   ]
  },
  {
   "cell_type": "code",
   "execution_count": null,
   "metadata": {
    "collapsed": true
   },
   "outputs": [],
   "source": [
    "#Put your histogram plotting code here!"
   ]
  },
  {
   "cell_type": "markdown",
   "metadata": {},
   "source": [
    "Finally, compute the median velocity dispersion for each of the 3 age groups. Don't be afraid to use Google!"
   ]
  },
  {
   "cell_type": "code",
   "execution_count": null,
   "metadata": {
    "collapsed": true
   },
   "outputs": [],
   "source": [
    "#Compute and print the median values here! "
   ]
  },
  {
   "cell_type": "markdown",
   "metadata": {},
   "source": [
    "Do your median values and histograms agree with your interpretation of the 3 maps? "
   ]
  },
  {
   "cell_type": "code",
   "execution_count": null,
   "metadata": {
    "collapsed": true
   },
   "outputs": [],
   "source": []
  }
 ],
 "metadata": {
  "anaconda-cloud": {},
  "kernelspec": {
   "display_name": "Python 3",
   "language": "python",
   "name": "python3"
  },
  "language_info": {
   "codemirror_mode": {
    "name": "ipython",
    "version": 3
   },
   "file_extension": ".py",
   "mimetype": "text/x-python",
   "name": "python",
   "nbconvert_exporter": "python",
   "pygments_lexer": "ipython3",
   "version": "3.5.2"
  }
 },
 "nbformat": 4,
 "nbformat_minor": 2
}
